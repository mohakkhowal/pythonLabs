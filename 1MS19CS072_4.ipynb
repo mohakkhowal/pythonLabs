{
  "nbformat": 4,
  "nbformat_minor": 0,
  "metadata": {
    "colab": {
      "name": "1MS19CS072_4.ipynb",
      "provenance": [],
      "collapsed_sections": []
    },
    "kernelspec": {
      "name": "python3",
      "display_name": "Python 3"
    },
    "language_info": {
      "name": "python"
    }
  },
  "cells": [
    {
      "cell_type": "markdown",
      "metadata": {
        "id": "4DGJg-OY72vX"
      },
      "source": [
        "<html>\n",
        "<body>\n",
        "\n",
        "<h2>Topic: Lists</h2>\n",
        "<hr><hr>\n",
        "<h3>USN: 1MS19CS072 </h3>\n",
        "<h3>NAME: MOHAK KHOWAL</h3>\n",
        "<hr><hr>\n",
        "</body>\n",
        "</html>\n"
      ]
    },
    {
      "cell_type": "markdown",
      "metadata": {
        "id": "6DJ3ldFk8A89"
      },
      "source": [
        "<html>\n",
        "<body>\n",
        "\n",
        "<h1>Questions</h1>\n",
        "\n",
        "<ol type=\"i\">\n",
        "  <li>\tWrite a python program to demonstrate, a list rotation consists of taking the last element and moving it to the front. For instance, if we rotate the list [1,2,3,4,5], we get [5,1,2,3,4]. If we rotate it again, we get [4,5,1,2,3].Write a Python function rotatelist(ls,k) that takes a list ls and a positive integer k and returns the list ls after k rotations. If k is not positive, your function should return ls unchanged. Note that your function should not change ls itself, and should return the rotated list.Here are some examples to show how your function should work.</br>\n",
        ">>> rotatelist([1,2,3,4,5],1) #output is [5, 1, 2, 3, 4]</br> \n",
        ">>> rotatelist([1,2,3,4,5],3) #output is [3, 4, 5, 1, 2] </br>\n",
        ">>> rotatelist([1,2,3,4,5],12) #output is [4, 5, 1, 2, 3]</br>\n",
        "</li>\n",
        "  <li>Write a python program to create list1 and list2, be two lists of integers.We say that list1 is a sublist of list2 if the elements in list1 appear in list2 in the same order as they appear in list1, but not necessarily consecutively.</br>\n",
        ">>> sublist([15, 1, 100], [20, 15, 30, 50, 1, 100])</br>\n",
        "True</br>\n",
        ">>> sublist([15, 50, 20], [20, 15, 30, 50, 1, 100])</br>\n",
        "False</br>\n",
        "</li>\n",
        "  <li>Write a Python program that prompts the user to enter a list of words and stores in a list only those words whose first letter occurs again within the word (for example, 'Baboon'). The program should display the resulting list.\n",
        "</li>\n",
        "</ol>\n",
        "<hr><hr>\n",
        "</body>\n",
        "</html>"
      ]
    },
    {
      "cell_type": "markdown",
      "metadata": {
        "id": "d-aIqxp4Db37"
      },
      "source": [
        "<html>\n",
        "<body>\n",
        "\n",
        "<h1>SOLUTIONS</h1>\n",
        "</body>\n",
        "</html>"
      ]
    },
    {
      "cell_type": "markdown",
      "metadata": {
        "id": "5-g0bdt_DVSR"
      },
      "source": [
        "<html>\n",
        "<body>\n",
        "<h3>program 'i'</h3>\n",
        "<h4>Code :</h3>\n",
        "</body>\n",
        "</html>"
      ]
    },
    {
      "cell_type": "code",
      "metadata": {
        "id": "gb0axNZV9Dnk"
      },
      "source": [
        "def rotatelist(data,k):\n",
        "  k = k%len(data)\n",
        "  data = data[-k:]+data[:-k]\n",
        "  return data"
      ],
      "execution_count": null,
      "outputs": []
    },
    {
      "cell_type": "code",
      "metadata": {
        "colab": {
          "base_uri": "https://localhost:8080/"
        },
        "id": "_WnRVcNHBC-e",
        "outputId": "6a00c309-13ca-4b7d-bf32-4c1f0bfd16cc"
      },
      "source": [
        "rotatelist([1,2,3,4,5],1) "
      ],
      "execution_count": null,
      "outputs": [
        {
          "output_type": "execute_result",
          "data": {
            "text/plain": [
              "[5, 1, 2, 3, 4]"
            ]
          },
          "metadata": {
            "tags": []
          },
          "execution_count": 26
        }
      ]
    },
    {
      "cell_type": "code",
      "metadata": {
        "colab": {
          "base_uri": "https://localhost:8080/"
        },
        "id": "O_u9SxlyBIZP",
        "outputId": "4bcbb133-1f92-4e26-c6d1-b4ce70fc60d9"
      },
      "source": [
        "rotatelist([1,2,3,4,5],3)"
      ],
      "execution_count": null,
      "outputs": [
        {
          "output_type": "execute_result",
          "data": {
            "text/plain": [
              "[3, 4, 5, 1, 2]"
            ]
          },
          "metadata": {
            "tags": []
          },
          "execution_count": 27
        }
      ]
    },
    {
      "cell_type": "code",
      "metadata": {
        "colab": {
          "base_uri": "https://localhost:8080/"
        },
        "id": "RTCi24-5BK4X",
        "outputId": "3c6c36d2-9941-45e8-d7cd-7c7cd45ba4da"
      },
      "source": [
        "rotatelist([1,2,3,4,5],12)"
      ],
      "execution_count": null,
      "outputs": [
        {
          "output_type": "execute_result",
          "data": {
            "text/plain": [
              "[4, 5, 1, 2, 3]"
            ]
          },
          "metadata": {
            "tags": []
          },
          "execution_count": 28
        }
      ]
    },
    {
      "cell_type": "markdown",
      "metadata": {
        "id": "iCpkUzGFDgeK"
      },
      "source": [
        "<html>\n",
        "<body>\n",
        "<h3>program 'ii'</h3>\n",
        "<h4>Code :</h3>\n",
        "</body>\n",
        "</html>"
      ]
    },
    {
      "cell_type": "code",
      "metadata": {
        "id": "-ACnFGE6DjOy"
      },
      "source": [
        "def sublist(a,b):\n",
        "  if len(a)>len(b) :\n",
        "    return False\n",
        "  elif len(a)==len(b):\n",
        "    return a==b\n",
        "  else:\n",
        "    i,j=0,0\n",
        "    while i<len(a) and j<len(b):\n",
        "      if a[i]!=b[j]:\n",
        "        j+=1\n",
        "      else:\n",
        "        i+=1\n",
        "        j+=1\n",
        "  return i==len(a)\n"
      ],
      "execution_count": null,
      "outputs": []
    },
    {
      "cell_type": "code",
      "metadata": {
        "colab": {
          "base_uri": "https://localhost:8080/"
        },
        "id": "VdcbDWzFIeSO",
        "outputId": "4da3fdc6-7b15-4aed-c874-ca36e79b7e7e"
      },
      "source": [
        "sublist([15, 1, 100], [20, 15, 30, 50, 1, 100])"
      ],
      "execution_count": null,
      "outputs": [
        {
          "output_type": "execute_result",
          "data": {
            "text/plain": [
              "True"
            ]
          },
          "metadata": {
            "tags": []
          },
          "execution_count": 35
        }
      ]
    },
    {
      "cell_type": "code",
      "metadata": {
        "colab": {
          "base_uri": "https://localhost:8080/"
        },
        "id": "MKLzaTX8Iit-",
        "outputId": "c945327f-0a58-486f-e6f9-322aec43e895"
      },
      "source": [
        "sublist([15, 50, 20], [20, 15, 30, 50, 1, 100])"
      ],
      "execution_count": null,
      "outputs": [
        {
          "output_type": "execute_result",
          "data": {
            "text/plain": [
              "False"
            ]
          },
          "metadata": {
            "tags": []
          },
          "execution_count": 36
        }
      ]
    },
    {
      "cell_type": "markdown",
      "metadata": {
        "id": "JHBRNgBlImmv"
      },
      "source": [
        "<html>\n",
        "<body>\n",
        "<h3>program 'iii'</h3>\n",
        "<h4>Code :</h3>\n",
        "</body>\n",
        "</html>"
      ]
    },
    {
      "cell_type": "code",
      "metadata": {
        "id": "sb7iBd0VItGr"
      },
      "source": [
        "def repeat(data):\n",
        "  ans = []\n",
        "  for x in data:\n",
        "    if len(x)<=1:\n",
        "      continue\n",
        "    y = x.lower()\n",
        "    if y[0] in y[1:]:\n",
        "      ans.append(x)\n",
        "  return ans"
      ],
      "execution_count": null,
      "outputs": []
    },
    {
      "cell_type": "code",
      "metadata": {
        "colab": {
          "base_uri": "https://localhost:8080/"
        },
        "id": "HGimfTZIL_gO",
        "outputId": "64e63b89-d904-44d6-eb4a-20b66bb358a8"
      },
      "source": [
        "repeat([\"hh\",'Babooon','abc','','a'])"
      ],
      "execution_count": null,
      "outputs": [
        {
          "output_type": "execute_result",
          "data": {
            "text/plain": [
              "['hh', 'Babooon']"
            ]
          },
          "metadata": {
            "tags": []
          },
          "execution_count": 43
        }
      ]
    }
  ]
}