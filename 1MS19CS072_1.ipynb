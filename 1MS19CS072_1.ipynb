{
  "nbformat": 4,
  "nbformat_minor": 0,
  "metadata": {
    "colab": {
      "name": "1MS19CS072_1.ipynb",
      "provenance": [],
      "collapsed_sections": []
    },
    "kernelspec": {
      "name": "python3",
      "display_name": "Python 3"
    },
    "language_info": {
      "name": "python"
    }
  },
  "cells": [
    {
      "cell_type": "markdown",
      "metadata": {
        "id": "aSDXZGDebGfL"
      },
      "source": [
        "<html>\n",
        "<body>\n",
        "\n",
        "<h2>Topic: Python Basics</h2>\n",
        "<hr><hr>\n",
        "<h3>USN: 1MS19CS072 </h3>\n",
        "<h3>NAME: MOHAK KHOWAL</h3>\n",
        "<hr><hr>\n",
        "</body>\n",
        "</html>\n"
      ]
    },
    {
      "cell_type": "markdown",
      "metadata": {
        "id": "vtVxRchKboM2"
      },
      "source": [
        "<html>\n",
        "<body>\n",
        "\n",
        "<h1>Questions</h1>\n",
        "\n",
        "<ol type=\"i\">\n",
        "  <li>Write a Python program that allows the user to enter two integer values, and displays the results when each of the following arithmetic operators are applied.For example, if user enters the values 7 and 5, the output would be, <br />\n",
        "7+ 5 = 12 <br />\n",
        "7 - 5 = 2 <br />\n",
        "7* 5 = 35 <br />\n",
        "7 / 5 = 1.40 <br />\n",
        "7// 5 = 1 <br />\n",
        "7 % 5 = 2 <br />\n",
        "7** 5 = 16,807 <br />\n",
        "</li>\n",
        "  <li>Write a Python program that allows the user to enter any integer value, and displays the value of 2 raised to that power. Your program should function as given.<br />\n",
        "Input: What power of two? 10 <br />\n",
        "Output: Two to the power of 10 is 1024 <br />\n",
        "</li>\n",
        "  <li>Write a Python program that allows the user to enter any integer base and integer exponent, and displays the value of the base raised to that exponent. Your program should function as shown below. <br />\n",
        "Input: What base? 10 <br />\n",
        "What power of 10? 4 <br />\n",
        "Output:10 to the power of 4 is 10000\n",
        "</li>\n",
        "<li>\n",
        "Write a python program that asks the user how many coins of various types they have, and then prints the total amount of money in rupees.\n",
        "</li>\n",
        "</ol>\n",
        "<hr><hr>\n",
        "</body>\n",
        "</html>"
      ]
    },
    {
      "cell_type": "markdown",
      "metadata": {
        "id": "r2wejzFVbpac"
      },
      "source": [
        "<html>\n",
        "<body>\n",
        "\n",
        "<h1>SOLUTIONS</h1>\n",
        "</body>\n",
        "</html>"
      ]
    },
    {
      "cell_type": "markdown",
      "metadata": {
        "id": "Cuq7OiJUb6C9"
      },
      "source": [
        "<html>\n",
        "<body>\n",
        "<h3>program 'i'</h3>\n",
        "<h4>Code :</h3>\n",
        "</body>\n",
        "</html>"
      ]
    },
    {
      "cell_type": "code",
      "metadata": {
        "colab": {
          "base_uri": "https://localhost:8080/"
        },
        "id": "6zuaAZ8VcJ1M",
        "outputId": "f8ff2919-03a8-4b0c-d87d-3f9d265799bc"
      },
      "source": [
        "a,b=map(int,input('Enter two Integers: ').split())\n",
        "print(a,'+',b,'=',a+b)\n",
        "print(a,'-',b,'=',a-b)\n",
        "print(a,'*',b,'=',a*b)\n",
        "print(a,'/',b,'=',a/b)\n",
        "print(a,'//',b,'=',a//b)\n",
        "print(a,'%',b,'=',a%b)\n",
        "print(a,'**',b,'=',a**b)"
      ],
      "execution_count": null,
      "outputs": [
        {
          "output_type": "stream",
          "text": [
            "Enter two Integers: 7 5\n",
            "7 + 5 = 12\n",
            "7 - 5 = 2\n",
            "7 * 5 = 35\n",
            "7 / 5 = 1.4\n",
            "7 // 5 = 1\n",
            "7 % 5 = 2\n",
            "7 ** 5 = 16807\n"
          ],
          "name": "stdout"
        }
      ]
    },
    {
      "cell_type": "markdown",
      "metadata": {
        "id": "EhjgOBbcdCW4"
      },
      "source": [
        "<html>\n",
        "<body>\n",
        "<h3>program 'ii'</h3>\n",
        "<h4>Code :</h3>\n",
        "</body>\n",
        "</html>\n"
      ]
    },
    {
      "cell_type": "code",
      "metadata": {
        "colab": {
          "base_uri": "https://localhost:8080/"
        },
        "id": "S1KXvcO6dETH",
        "outputId": "63329d63-3a21-4756-9d05-f85a13baa7f3"
      },
      "source": [
        "n = int(input('What power of two? :'))\n",
        "print('Two to the power of',n,'is',2**n)"
      ],
      "execution_count": null,
      "outputs": [
        {
          "output_type": "stream",
          "text": [
            "What power of two? :10\n",
            "Two to the power of 10 is 1024\n"
          ],
          "name": "stdout"
        }
      ]
    },
    {
      "cell_type": "markdown",
      "metadata": {
        "id": "QUwFAo81drl1"
      },
      "source": [
        "<html>\n",
        "<body>\n",
        "<h3>program 'iii'</h3>\n",
        "<h4>Code :</h3>\n",
        "</body>\n",
        "</html>\n"
      ]
    },
    {
      "cell_type": "code",
      "metadata": {
        "colab": {
          "base_uri": "https://localhost:8080/"
        },
        "id": "d-29XYH8dxDH",
        "outputId": "00b2a316-110f-47bc-ece1-2a484d8e3726"
      },
      "source": [
        "a = int(input('What base? :').strip())\n",
        "print('What Power of',a,'? : ')\n",
        "b = int(input().strip())\n",
        "print(a,'to the power of',b,'is',a**b)"
      ],
      "execution_count": null,
      "outputs": [
        {
          "output_type": "stream",
          "text": [
            "What base? :10\n",
            "What Power of 10 ? : \n",
            "4\n",
            "10 to the power of 4 is 10000\n"
          ],
          "name": "stdout"
        }
      ]
    },
    {
      "cell_type": "markdown",
      "metadata": {
        "id": "UKb6AMPXemR8"
      },
      "source": [
        "<html>\n",
        "<body>\n",
        "<h3>program 'iv'</h3>\n",
        "<h4>Code :</h3>\n",
        "</body>\n",
        "</html>\n"
      ]
    },
    {
      "cell_type": "code",
      "metadata": {
        "colab": {
          "base_uri": "https://localhost:8080/"
        },
        "id": "HvnuxUizeoUd",
        "outputId": "cbfaab35-c402-49b8-ce68-e992adac480e"
      },
      "source": [
        "one = int(input('Enter no. of one rupee coins: '))\n",
        "two = int(input('Enter no. of two rupee coins: '))\n",
        "five = int(input('Enter no. of five rupee coins: '))\n",
        "ten = int(input('Enter no. of ten rupee coins:'))\n",
        "print('You have',one+two*2+five*5+ten*10,'rupees!')"
      ],
      "execution_count": null,
      "outputs": [
        {
          "output_type": "stream",
          "text": [
            "Enter no. of one rupee coins: 10\n",
            "Enter no. of two rupee coins: 5\n",
            "Enter no. of five rupee coins: 2\n",
            "Enter no. of ten rupee coins:1\n",
            "You have 40 rupees!\n"
          ],
          "name": "stdout"
        }
      ]
    }
  ]
}