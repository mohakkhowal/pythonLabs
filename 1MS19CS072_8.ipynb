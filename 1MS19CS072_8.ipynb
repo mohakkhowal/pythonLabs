{
  "nbformat": 4,
  "nbformat_minor": 5,
  "metadata": {
    "kernelspec": {
      "display_name": "Python 3",
      "language": "python",
      "name": "python3"
    },
    "language_info": {
      "codemirror_mode": {
        "name": "ipython",
        "version": 3
      },
      "file_extension": ".py",
      "mimetype": "text/x-python",
      "name": "python",
      "nbconvert_exporter": "python",
      "pygments_lexer": "ipython3",
      "version": "3.6.9"
    },
    "colab": {
      "name": "1MS19CS072_8.ipynb",
      "provenance": []
    }
  },
  "cells": [
    {
      "cell_type": "markdown",
      "metadata": {
        "id": "basic-acoustic"
      },
      "source": [
        "<html>\n",
        "<body>\n",
        "\n",
        "<h2>Topic: Object\n",
        "Oriented\n",
        "Concepts</h2>\n",
        "<hr><hr>\n",
        "<h3>USN: 1MS19CS072 </h3>\n",
        "<h3>NAME: MOHAK KHOWAL</h3>\n",
        "<hr><hr>\n",
        "</body>\n",
        "</html>"
      ],
      "id": "basic-acoustic"
    },
    {
      "cell_type": "markdown",
      "metadata": {
        "id": "chinese-plain"
      },
      "source": [
        "<html>\n",
        "<body>\n",
        "\n",
        "<h1>Questions</h1>\n",
        "\n",
        "<ol type=\"i\">\n",
        "  <li>Write a python class to represent city which\n",
        "contains a list of places to see. Provide methods to\n",
        "create the object with just the city name or with city\n",
        "name and places (stored as list) Provide methods to\n",
        "add a place of visit, to remove place of visit, to\n",
        "display all places of visit.\n",
        "</li>\n",
        "  <li>Write a python program to simulate saving account\n",
        "processing in a bank using constructors. Create\n",
        "Deposit and Withdraw with other member\n",
        "functions and Check for Validation while\n",
        "withdrawing the amount and depositing the amount\n",
        "by defining appropriate user defined exceptions.\n",
        "</li>  \n",
        "</ol>\n",
        "<hr><hr>\n",
        "</body>\n",
        "</html>"
      ],
      "id": "chinese-plain"
    },
    {
      "cell_type": "markdown",
      "metadata": {
        "id": "celtic-address"
      },
      "source": [
        "<html>\n",
        "<body>\n",
        "\n",
        "<h1>SOLUTIONS</h1>\n",
        "</body>\n",
        "</html>"
      ],
      "id": "celtic-address"
    },
    {
      "cell_type": "markdown",
      "metadata": {
        "id": "pressing-pizza"
      },
      "source": [
        "<html>\n",
        "<body>\n",
        "<h3>program 'i'</h3>\n",
        "<h4>Code :</h3>\n",
        "</body>\n",
        "</html>"
      ],
      "id": "pressing-pizza"
    },
    {
      "cell_type": "code",
      "metadata": {
        "id": "plain-movie"
      },
      "source": [
        "class City:\n",
        "    data = []\n",
        "    def __init__(self,names=[]):\n",
        "        self.data = names\n",
        "    def add(self,place):\n",
        "        if place not in self.data:\n",
        "          self.data.append(place)\n",
        "    def remove(self,place):\n",
        "        if place in self.data:\n",
        "            self.data.remove(place)\n",
        "    def display(self):\n",
        "        print(','.join(x for x in set(self.data)))"
      ],
      "id": "plain-movie",
      "execution_count": 9,
      "outputs": []
    },
    {
      "cell_type": "code",
      "metadata": {
        "id": "legitimate-general"
      },
      "source": [
        "bombay = City()"
      ],
      "id": "legitimate-general",
      "execution_count": 10,
      "outputs": []
    },
    {
      "cell_type": "code",
      "metadata": {
        "id": "suspected-jesus"
      },
      "source": [
        "ranchi = City(['a','b','c'])"
      ],
      "id": "suspected-jesus",
      "execution_count": 11,
      "outputs": []
    },
    {
      "cell_type": "code",
      "metadata": {
        "id": "located-hotel"
      },
      "source": [
        "bombay.add('a')"
      ],
      "id": "located-hotel",
      "execution_count": 12,
      "outputs": []
    },
    {
      "cell_type": "code",
      "metadata": {
        "id": "distributed-consortium"
      },
      "source": [
        "ranchi.remove('c')"
      ],
      "id": "distributed-consortium",
      "execution_count": 13,
      "outputs": []
    },
    {
      "cell_type": "code",
      "metadata": {
        "id": "lj0CviCHPcux"
      },
      "source": [
        "bombay.add('a')"
      ],
      "id": "lj0CviCHPcux",
      "execution_count": 14,
      "outputs": []
    },
    {
      "cell_type": "code",
      "metadata": {
        "colab": {
          "base_uri": "https://localhost:8080/"
        },
        "id": "seeing-poison",
        "outputId": "69d8b1c3-07f8-44b6-9e38-de29ae3da355"
      },
      "source": [
        "ranchi.display()"
      ],
      "id": "seeing-poison",
      "execution_count": 15,
      "outputs": [
        {
          "output_type": "stream",
          "text": [
            "a,b\n"
          ],
          "name": "stdout"
        }
      ]
    },
    {
      "cell_type": "markdown",
      "metadata": {
        "id": "S_csls_aTy2N"
      },
      "source": [
        "<html>\n",
        "<body>\n",
        "<h3>program 'ii'</h3>\n",
        "<h4>Code :</h3>\n",
        "</body>\n",
        "</html>"
      ],
      "id": "S_csls_aTy2N"
    },
    {
      "cell_type": "code",
      "metadata": {
        "id": "2cG1gzfFT2An"
      },
      "source": [
        "class Bank_Account:\n",
        "    def __init__(self):\n",
        "        self.balance=0\n",
        "        print(\"Hello!!! Welcome to the Bank!\")\n",
        "  \n",
        "    def deposit(self):\n",
        "        amount=float(input(\"Enter amount to be Deposited: \"))\n",
        "        self.balance += amount\n",
        "        print(\"Amount Deposited:\",amount)\n",
        "  \n",
        "    def withdraw(self):\n",
        "        amount = float(input(\"Enter amount to be Withdrawn: \"))\n",
        "        if self.balance>=amount:\n",
        "            self.balance-=amount\n",
        "            print(\"You Withdrew:\", amount)\n",
        "        else:\n",
        "            print(\"Insufficient balance  \")\n",
        "  \n",
        "    def display(self):\n",
        "        print(\"Net Available Balance=\",self.balance)"
      ],
      "id": "2cG1gzfFT2An",
      "execution_count": 16,
      "outputs": []
    },
    {
      "cell_type": "code",
      "metadata": {
        "colab": {
          "base_uri": "https://localhost:8080/"
        },
        "id": "ogHPc1h2W6P7",
        "outputId": "e7513d38-c515-4b50-bb01-cbd38c643b9f"
      },
      "source": [
        "mohak = Bank_Account()"
      ],
      "id": "ogHPc1h2W6P7",
      "execution_count": 17,
      "outputs": [
        {
          "output_type": "stream",
          "text": [
            "Hello!!! Welcome to the Bank!\n"
          ],
          "name": "stdout"
        }
      ]
    },
    {
      "cell_type": "code",
      "metadata": {
        "colab": {
          "base_uri": "https://localhost:8080/"
        },
        "id": "trR3X-o2W9QT",
        "outputId": "1831210f-414d-43aa-e867-653f5547fc48"
      },
      "source": [
        "mohak.deposit()"
      ],
      "id": "trR3X-o2W9QT",
      "execution_count": 18,
      "outputs": [
        {
          "output_type": "stream",
          "text": [
            "Enter amount to be Deposited: 10000\n",
            "Amount Deposited: 10000.0\n"
          ],
          "name": "stdout"
        }
      ]
    },
    {
      "cell_type": "code",
      "metadata": {
        "colab": {
          "base_uri": "https://localhost:8080/"
        },
        "id": "5gzj4fwKXBDA",
        "outputId": "8abdd9c9-83ad-42a3-957a-6476db415b4f"
      },
      "source": [
        "mohak.withdraw()"
      ],
      "id": "5gzj4fwKXBDA",
      "execution_count": 19,
      "outputs": [
        {
          "output_type": "stream",
          "text": [
            "Enter amount to be Withdrawn: 1500000\n",
            "Insufficient balance  \n"
          ],
          "name": "stdout"
        }
      ]
    },
    {
      "cell_type": "code",
      "metadata": {
        "colab": {
          "base_uri": "https://localhost:8080/"
        },
        "id": "QV1g4caUXECb",
        "outputId": "cb93964f-9938-45d2-91b5-409794964287"
      },
      "source": [
        "mohak.withdraw()"
      ],
      "id": "QV1g4caUXECb",
      "execution_count": 20,
      "outputs": [
        {
          "output_type": "stream",
          "text": [
            "Enter amount to be Withdrawn: 5000\n",
            "You Withdrew: 5000.0\n"
          ],
          "name": "stdout"
        }
      ]
    },
    {
      "cell_type": "code",
      "metadata": {
        "colab": {
          "base_uri": "https://localhost:8080/"
        },
        "id": "Olkka-VOXGwh",
        "outputId": "d9441532-ebe6-4f08-aa2e-e76566e9bbc0"
      },
      "source": [
        "mohak.display()"
      ],
      "id": "Olkka-VOXGwh",
      "execution_count": 21,
      "outputs": [
        {
          "output_type": "stream",
          "text": [
            "Net Available Balance= 5000.0\n"
          ],
          "name": "stdout"
        }
      ]
    }
  ]
}