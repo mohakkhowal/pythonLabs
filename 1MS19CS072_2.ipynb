{
 "cells": [
  {
   "cell_type": "markdown",
   "metadata": {
    "id": "GgBDs-Yjh6BV"
   },
   "source": [
    "<html>\n",
    "<body>\n",
    "\n",
    "<h2>Topic: Control\n",
    "Structures</h2>\n",
    "<hr><hr>\n",
    "<h3>USN: 1MS19CS072 </h3>\n",
    "<h3>NAME: MOHAK KHOWAL</h3>\n",
    "<hr><hr>\n",
    "</body>\n",
    "</html>\n"
   ]
  },
  {
   "cell_type": "markdown",
   "metadata": {
    "id": "A3_3YFuIiFf_"
   },
   "source": [
    "<html>\n",
    "<body>\n",
    "\n",
    "<h1>Questions</h1>\n",
    "\n",
    "<ol type=\"i\">\n",
    "  <li>Write a Python program in which a student enters\n",
    "the number of college credits earned. If the\n",
    "number of credits is greater than 90, &#39;Senior\n",
    "Status&#39; is displayed;\n",
    "if greater than 60, &#39;Junior Status&#39; is displayed;\n",
    "if greater than 30, &#39;Sophomore Status&#39; is\n",
    "displayed;\n",
    "else, &#39;Freshman Status&#39; is displayed.\n",
    "</li>\n",
    "  <li>Write a program containing a pair of nested while\n",
    "loops that displays the integer values 1–100, ten\n",
    "numbers per row, with the columns aligned as\n",
    "shown below\n",
    "</li>\n",
    "  <li>You go on a wonderful holiday (perhaps to jail, if\n",
    "you don’t like happy exercises) leaving on day\n",
    "number 3 (a Wednesday). You return home after\n",
    "137 sleeps. Write a general version of the\n",
    "program which asks for the starting day number,\n",
    "and the length of your stay, and it will tell you the\n",
    "name of day of the week you will return on.\n",
    "</li>\n",
    "</ol>\n",
    "<hr><hr>\n",
    "</body>\n",
    "</html>"
   ]
  },
  {
   "cell_type": "markdown",
   "metadata": {
    "id": "-QrXW6AdiXRx"
   },
   "source": [
    "<html>\n",
    "<body>\n",
    "\n",
    "<h1>SOLUTIONS</h1>\n",
    "</body>\n",
    "</html>"
   ]
  },
  {
   "cell_type": "markdown",
   "metadata": {
    "id": "XJDjeMttia4O"
   },
   "source": [
    "<html>\n",
    "<body>\n",
    "<h3>program 'i'</h3>\n",
    "<h4>Code :</h3>\n",
    "</body>\n",
    "</html>"
   ]
  },
  {
   "cell_type": "code",
   "execution_count": 1,
   "metadata": {
    "colab": {
     "base_uri": "https://localhost:8080/"
    },
    "id": "e_DEcujYieF2",
    "outputId": "8d759a61-6f66-4e39-8f65-6d88614bf521"
   },
   "outputs": [
    {
     "name": "stdout",
     "output_type": "stream",
     "text": [
      "Enter the number of college credits you have earned: 31\n",
      "Sophomore Status\n"
     ]
    }
   ],
   "source": [
    "n = int(input('Enter the number of college credits you have earned: '))\n",
    "if n>90:\n",
    "  print('Senior Status')\n",
    "elif n>60:\n",
    "  print('Junior Status')\n",
    "elif n>30:\n",
    "  print('Sophomore Status')\n",
    "else:\n",
    "  print('Freshman Status')"
   ]
  },
  {
   "cell_type": "markdown",
   "metadata": {
    "id": "_0pNkPkwjQNm"
   },
   "source": [
    "<html>\n",
    "<body>\n",
    "<h3>program 'ii'</h3>\n",
    "<h4>Code :</h3>\n",
    "</body>\n",
    "</html>"
   ]
  },
  {
   "cell_type": "code",
   "execution_count": 2,
   "metadata": {
    "colab": {
     "base_uri": "https://localhost:8080/"
    },
    "id": "378loo2pjRA0",
    "outputId": "27ca9ed3-9737-45dc-a747-78640c3523e9"
   },
   "outputs": [
    {
     "name": "stdout",
     "output_type": "stream",
     "text": [
      "  1   2   3   4   5   6   7   8   9  10 \n",
      " 11  12  13  14  15  16  17  18  19  20 \n",
      " 21  22  23  24  25  26  27  28  29  30 \n",
      " 31  32  33  34  35  36  37  38  39  40 \n",
      " 41  42  43  44  45  46  47  48  49  50 \n",
      " 51  52  53  54  55  56  57  58  59  60 \n",
      " 61  62  63  64  65  66  67  68  69  70 \n",
      " 71  72  73  74  75  76  77  78  79  80 \n",
      " 81  82  83  84  85  86  87  88  89  90 \n",
      " 91  92  93  94  95  96  97  98  99 100 \n"
     ]
    }
   ],
   "source": [
    "i=0\n",
    "while(i<10):\n",
    "  j=1\n",
    "  while(j<11):\n",
    "    print('{:>3}'.format(i*10+j),end=\" \")\n",
    "    j+=1\n",
    "  i+=1  \n",
    "  print()"
   ]
  },
  {
   "cell_type": "markdown",
   "metadata": {
    "id": "2mRa7St2kZTZ"
   },
   "source": [
    "<html>\n",
    "<body>\n",
    "<h3>program 'iii'</h3>\n",
    "<h4>Code :</h3>\n",
    "</body>\n",
    "</html>"
   ]
  },
  {
   "cell_type": "code",
   "execution_count": 4,
   "metadata": {
    "colab": {
     "base_uri": "https://localhost:8080/"
    },
    "id": "lgtAFIn1kbFe",
    "outputId": "aed3dc27-c322-463f-e946-e92fe0a288da"
   },
   "outputs": [
    {
     "name": "stdout",
     "output_type": "stream",
     "text": [
      "Enter the starting day number and length of your stay: 3 10\n",
      "You will return on: Saturday\n"
     ]
    }
   ],
   "source": [
    "days = ['Sunday','Monday','Tuesday','Wednesday','Thursday','Friday','Saturday']\n",
    "a,b = map(int,input('Enter the starting day number and length of your stay: ').split())\n",
    "print('You will return on:',days[(a+b)%7])"
   ]
  }
 ],
 "metadata": {
  "colab": {
   "collapsed_sections": [],
   "name": "1MS19CS072_2.ipynb",
   "provenance": []
  },
  "kernelspec": {
   "display_name": "Python 3",
   "language": "python",
   "name": "python3"
  },
  "language_info": {
   "codemirror_mode": {
    "name": "ipython",
    "version": 3
   },
   "file_extension": ".py",
   "mimetype": "text/x-python",
   "name": "python",
   "nbconvert_exporter": "python",
   "pygments_lexer": "ipython3",
   "version": "3.6.9"
  }
 },
 "nbformat": 4,
 "nbformat_minor": 1
}
