{
  "nbformat": 4,
  "nbformat_minor": 0,
  "metadata": {
    "colab": {
      "name": "1MS19CS072_3.ipynb",
      "provenance": [],
      "collapsed_sections": []
    },
    "kernelspec": {
      "name": "python3",
      "display_name": "Python 3"
    },
    "language_info": {
      "name": "python"
    }
  },
  "cells": [
    {
      "cell_type": "markdown",
      "metadata": {
        "id": "SyhcRed4nkXB"
      },
      "source": [
        "<html>\n",
        "<body>\n",
        "\n",
        "<h2>Topic: Functions</h2>\n",
        "<hr><hr>\n",
        "<h3>USN: 1MS19CS072 </h3>\n",
        "<h3>NAME: MOHAK KHOWAL</h3>\n",
        "<hr><hr>\n",
        "</body>\n",
        "</html>\n"
      ]
    },
    {
      "cell_type": "markdown",
      "metadata": {
        "id": "NFdG6jkQnybH"
      },
      "source": [
        "<html>\n",
        "<body>\n",
        "\n",
        "<h1>Questions</h1>\n",
        "\n",
        "<ol type=\"i\">\n",
        "  <li>Write a python function geometric() that takes a list of integers as input and returns True if the integers in the list form a geometric sequence. A sequence a0, a1, a2, a3, a4, . . . , an is a geometric sequence if the ratios a1/a0, a2/a1, a3/a2, a4/a3, . . . , an-1/an are all equal.</br>\n",
        ">>> geometric([2, 4, 8, 16, 32, 64, 128, 256])</br>\n",
        "True</br>\n",
        ">>> geometric([2, 4, 6, 8])</br>\n",
        "False\n",
        "\n",
        "</li>\n",
        "  <li>Write a python function names() that takes no input and repeatedly asks the user to enter the first name of a student in a class. When the user enters the empty string, the function should print for every name the number of students with that name.</br>\n",
        ">>> names()</br>\n",
        "Enter next name: Valerie</br>\n",
        "Enter next name: Bob</br>\n",
        "Enter next name: Valerie</br>\n",
        "Enter next name: Amelia</br>\n",
        "Enter next name: Bob</br>\n",
        "Enter next name:</br>\n",
        "There is 1 student named Amelia</br>\n",
        "There are 2 students named Bob</br>\n",
        "There are 2 students named Valerie</br>\n",
        "\n",
        "</li>\n",
        "  <li>Write a python function subsetSum() that takes as input a list of positive numbers and a positive number target. Your function should return True if there are three numbers in the list that add up to target. For example, if the input list is [5, 4, 10, 20, 15, 19] and target is 38, then True should be returned since 4+15+19 = 38. However, if the input list is the same but the target value is 10, then the returned value should be False because 10 is not the sum of any three numbers in the given list.\n",
        "</li>\n",
        "<li>Write the function alternatingSum(L) that takes a list of numbers and returns the alternating sum (where the sign alternates from positive to negative or vice versa). For example, alternatingSum([5,3,8,4]) returns 6 (that is, 5-3+8-4). If the list is empty, return 0.\n",
        "</li>\n",
        "</ol>\n",
        "<hr><hr>\n",
        "</body>\n",
        "</html>"
      ]
    },
    {
      "cell_type": "markdown",
      "metadata": {
        "id": "U1mpsbbKzjyB"
      },
      "source": [
        "<html>\n",
        "<body>\n",
        "\n",
        "<h1>SOLUTIONS</h1>\n",
        "</body>\n",
        "</html>"
      ]
    },
    {
      "cell_type": "markdown",
      "metadata": {
        "id": "sL51jT1HzmWH"
      },
      "source": [
        "<html>\n",
        "<body>\n",
        "<h3>program 'i'</h3>\n",
        "<h4>Code :</h3>\n",
        "</body>\n",
        "</html>"
      ]
    },
    {
      "cell_type": "code",
      "metadata": {
        "id": "yBGKlcXkzsFG"
      },
      "source": [
        "def geometric(nums):\n",
        "  if len(nums)<=1:\n",
        "    print('Not enough numbers in the list')\n",
        "    return False\n",
        "  else:\n",
        "    temp = nums[1]/nums[0]\n",
        "    for i in range(1,len(nums)):\n",
        "      if(nums[i]/nums[i-1]!=temp):\n",
        "        return False\n",
        "    return True"
      ],
      "execution_count": null,
      "outputs": []
    },
    {
      "cell_type": "code",
      "metadata": {
        "colab": {
          "base_uri": "https://localhost:8080/"
        },
        "id": "KkocJiby2C7b",
        "outputId": "d30e93a0-07cc-4c88-987f-01310ea49845"
      },
      "source": [
        "geometric([2, 4, 6, 8])"
      ],
      "execution_count": null,
      "outputs": [
        {
          "output_type": "execute_result",
          "data": {
            "text/plain": [
              "False"
            ]
          },
          "metadata": {
            "tags": []
          },
          "execution_count": 9
        }
      ]
    },
    {
      "cell_type": "code",
      "metadata": {
        "colab": {
          "base_uri": "https://localhost:8080/"
        },
        "id": "advjm7df2n2L",
        "outputId": "550f015b-bc44-4c9a-ea48-09fe3021a9af"
      },
      "source": [
        "geometric([2, 4, 8, 16, 32, 64, 128, 256])"
      ],
      "execution_count": null,
      "outputs": [
        {
          "output_type": "execute_result",
          "data": {
            "text/plain": [
              "True"
            ]
          },
          "metadata": {
            "tags": []
          },
          "execution_count": 10
        }
      ]
    },
    {
      "cell_type": "markdown",
      "metadata": {
        "id": "4rsBsvyX2zGP"
      },
      "source": [
        "<html>\n",
        "<body>\n",
        "<h3>program 'ii'</h3>\n",
        "<h4>Code :</h3>\n",
        "</body>\n",
        "</html>"
      ]
    },
    {
      "cell_type": "code",
      "metadata": {
        "id": "hvDErw0y2zul"
      },
      "source": [
        "data = {}\n",
        "def names():\n",
        "  name = input('Enter next name: ')\n",
        "  if name!=\"\":\n",
        "    if name not in data.keys():\n",
        "      data[name]=1\n",
        "    else:\n",
        "      data[name]+=1\n",
        "    names()\n",
        "  else:\n",
        "    for x,y in data.items():\n",
        "      if y==1:\n",
        "        print('There is',y,'student named',x)\n",
        "      else:\n",
        "        print('There are',y,'students named',x)\n"
      ],
      "execution_count": null,
      "outputs": []
    },
    {
      "cell_type": "code",
      "metadata": {
        "colab": {
          "base_uri": "https://localhost:8080/"
        },
        "id": "kgvkqkor4Dbd",
        "outputId": "1b356d17-b2d5-4dc5-a6bf-175df430ce4b"
      },
      "source": [
        "names()"
      ],
      "execution_count": null,
      "outputs": [
        {
          "output_type": "stream",
          "text": [
            "Enter next name: mohak\n",
            "Enter next name: mohak\n",
            "Enter next name: khowal\n",
            "Enter next name: unnamed\n",
            "Enter next name: \n",
            "There are 2 students named mohak\n",
            "There is 1 student named khowal\n",
            "There is 1 student named unnamed\n"
          ],
          "name": "stdout"
        }
      ]
    },
    {
      "cell_type": "markdown",
      "metadata": {
        "id": "AXbPkNvU4dxF"
      },
      "source": [
        "<html>\n",
        "<body>\n",
        "<h3>program 'iii'</h3>\n",
        "<h4>Code :</h3>\n",
        "</body>\n",
        "</html>"
      ]
    },
    {
      "cell_type": "code",
      "metadata": {
        "id": "bUJQSWzI4ghi"
      },
      "source": [
        "def subsetSum(data,sum):\n",
        "    for i in range(0, len(data)-1):\n",
        "        s = set()\n",
        "        temp=sum-data[i]\n",
        "        for j in range(i + 1, len(data)):\n",
        "            if (temp - data[j]) in s:\n",
        "                return True\n",
        "            s.add(data[j])\n",
        "    return False"
      ],
      "execution_count": null,
      "outputs": []
    },
    {
      "cell_type": "code",
      "metadata": {
        "colab": {
          "base_uri": "https://localhost:8080/"
        },
        "id": "u65Dwplo50_H",
        "outputId": "3f0043e7-e4e8-4656-cbbf-23a4724feb59"
      },
      "source": [
        "subsetSum([1, 4, 45, 6, 10, 8],22)"
      ],
      "execution_count": null,
      "outputs": [
        {
          "output_type": "execute_result",
          "data": {
            "text/plain": [
              "True"
            ]
          },
          "metadata": {
            "tags": []
          },
          "execution_count": 17
        }
      ]
    },
    {
      "cell_type": "code",
      "metadata": {
        "colab": {
          "base_uri": "https://localhost:8080/"
        },
        "id": "ixEpboRk57Te",
        "outputId": "5d6a6e7a-34df-41b7-d982-722f77e1788e"
      },
      "source": [
        "subsetSum([1,2,3],69)"
      ],
      "execution_count": null,
      "outputs": [
        {
          "output_type": "execute_result",
          "data": {
            "text/plain": [
              "False"
            ]
          },
          "metadata": {
            "tags": []
          },
          "execution_count": 18
        }
      ]
    },
    {
      "cell_type": "markdown",
      "metadata": {
        "id": "G1cZNHBQ6i4L"
      },
      "source": [
        "<html>\n",
        "<body>\n",
        "<h3>program 'iv'</h3>\n",
        "<h4>Code :</h3>\n",
        "</body>\n",
        "</html>"
      ]
    },
    {
      "cell_type": "code",
      "metadata": {
        "id": "E0jaraNy6mhm"
      },
      "source": [
        "def alternatingSum(data):\n",
        "  return sum(data[::2])-sum(data[1::2])"
      ],
      "execution_count": 1,
      "outputs": []
    },
    {
      "cell_type": "code",
      "metadata": {
        "colab": {
          "base_uri": "https://localhost:8080/"
        },
        "id": "ZO9XZ1mf63by",
        "outputId": "07ff2992-03ec-4b06-e8ce-c9bbf7f37198"
      },
      "source": [
        "alternatingSum([5,3,8,4])"
      ],
      "execution_count": 2,
      "outputs": [
        {
          "output_type": "execute_result",
          "data": {
            "text/plain": [
              "6"
            ]
          },
          "metadata": {
            "tags": []
          },
          "execution_count": 2
        }
      ]
    },
    {
      "cell_type": "code",
      "metadata": {
        "colab": {
          "base_uri": "https://localhost:8080/"
        },
        "id": "KBjWSK7_67dV",
        "outputId": "b39d6362-4234-4b87-9a91-5bce1ff3b517"
      },
      "source": [
        "alternatingSum([])"
      ],
      "execution_count": 3,
      "outputs": [
        {
          "output_type": "execute_result",
          "data": {
            "text/plain": [
              "0"
            ]
          },
          "metadata": {
            "tags": []
          },
          "execution_count": 3
        }
      ]
    }
  ]
}