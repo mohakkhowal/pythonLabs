{
  "nbformat": 4,
  "nbformat_minor": 0,
  "metadata": {
    "colab": {
      "name": "1MS19CS072_5.ipynb",
      "provenance": [],
      "collapsed_sections": []
    },
    "kernelspec": {
      "name": "python3",
      "display_name": "Python 3"
    },
    "language_info": {
      "name": "python"
    }
  },
  "cells": [
    {
      "cell_type": "markdown",
      "metadata": {
        "id": "wIdCGIxMPh44"
      },
      "source": [
        "<html>\n",
        "<body>\n",
        "\n",
        "<h2>Topic: Strings</h2>\n",
        "<hr><hr>\n",
        "<h3>USN: 1MS19CS072 </h3>\n",
        "<h3>NAME: MOHAK KHOWAL</h3>\n",
        "<hr><hr>\n",
        "</body>\n",
        "</html>\n"
      ]
    },
    {
      "cell_type": "markdown",
      "metadata": {
        "id": "OYaTyYPnPx_K"
      },
      "source": [
        "<html>\n",
        "<body>\n",
        "\n",
        "<h1>Questions</h1>\n",
        "\n",
        "<ol type=\"i\">\n",
        "  <li>Write a python program for , A string with parentheses is well bracketed if all parentheses are matched: every opening bracket has a matching closing bracket and vice versa. Write a Python function wellbracketed(s) that takes a string s containing parentheses and returns True if s is well bracketed and False otherwise. Here are some examples to show how your function should work.</br>\n",
        ">>> wellbracketed(\"22)\")</br>\n",
        "False</br>\n",
        ">>> wellbracketed(\"(a+b)(a-b)\")</br>\n",
        "True</br>\n",
        ">>> wellbracketed(\"(a(b+c)-d)((e+f)\")</br>\n",
        "False</br>\n",
        "\n",
        "</li>\n",
        "  <li>Write a python program that takes a string and prints the frequency of the characters contained in it. For Example:</br>\n",
        "Input: Hello </br>\n",
        "Output: H:1 e:1 l:2 o:1</br>\n",
        "</li>\n",
        "  <li>Write a program that takes your full name as input and displays the abbreviations of the first and middle names except the last name which is displayed as it is. For example, if you r name is Robert Brett Roser, then the output should be R.B.Roser\n",
        "</li>\n",
        "</ol>\n",
        "<hr><hr>\n",
        "</body>\n",
        "</html>"
      ]
    },
    {
      "cell_type": "markdown",
      "metadata": {
        "id": "kbijgrvpTTLb"
      },
      "source": [
        "<html>\n",
        "<body>\n",
        "\n",
        "<h1>SOLUTIONS</h1>\n",
        "</body>\n",
        "</html>"
      ]
    },
    {
      "cell_type": "markdown",
      "metadata": {
        "id": "d_Ni5cFUTWoX"
      },
      "source": [
        "<html>\n",
        "<body>\n",
        "<h3>program 'i'</h3>\n",
        "<h4>Code :</h3>\n",
        "</body>\n",
        "</html>"
      ]
    },
    {
      "cell_type": "code",
      "metadata": {
        "id": "hwFEGekTQIxu"
      },
      "source": [
        "def wellbracketed(ss):\n",
        "  count = 0 \n",
        "  for x in ss:\n",
        "    if count<0:\n",
        "      return False\n",
        "    if x=='(':\n",
        "      count+=1\n",
        "    elif x==')':\n",
        "      count-=1\n",
        "  return count==0  "
      ],
      "execution_count": null,
      "outputs": []
    },
    {
      "cell_type": "code",
      "metadata": {
        "colab": {
          "base_uri": "https://localhost:8080/"
        },
        "id": "OHwRvLtcTG5B",
        "outputId": "3a23fe5c-82fe-4892-88c0-c04a28d3c60c"
      },
      "source": [
        "wellbracketed(\"22)\")"
      ],
      "execution_count": null,
      "outputs": [
        {
          "output_type": "execute_result",
          "data": {
            "text/plain": [
              "False"
            ]
          },
          "metadata": {
            "tags": []
          },
          "execution_count": 2
        }
      ]
    },
    {
      "cell_type": "code",
      "metadata": {
        "colab": {
          "base_uri": "https://localhost:8080/"
        },
        "id": "KqE9h_HOTKBl",
        "outputId": "335b23ec-384a-437e-9761-6cecc10f8e2c"
      },
      "source": [
        "wellbracketed(\"(a+b)(a-b)\")"
      ],
      "execution_count": null,
      "outputs": [
        {
          "output_type": "execute_result",
          "data": {
            "text/plain": [
              "True"
            ]
          },
          "metadata": {
            "tags": []
          },
          "execution_count": 3
        }
      ]
    },
    {
      "cell_type": "code",
      "metadata": {
        "colab": {
          "base_uri": "https://localhost:8080/"
        },
        "id": "mNNF1qNfTMx9",
        "outputId": "c999b824-9a95-4b89-8fdc-b14a73a86a6c"
      },
      "source": [
        "wellbracketed(\"(a(b+c)-d)((e+f)\")"
      ],
      "execution_count": null,
      "outputs": [
        {
          "output_type": "execute_result",
          "data": {
            "text/plain": [
              "False"
            ]
          },
          "metadata": {
            "tags": []
          },
          "execution_count": 4
        }
      ]
    },
    {
      "cell_type": "markdown",
      "metadata": {
        "id": "_mGGIyQ7TaWr"
      },
      "source": [
        "<html>\n",
        "<body>\n",
        "<h3>program 'ii'</h3>\n",
        "<h4>Code :</h3>\n",
        "</body>\n",
        "</html>"
      ]
    },
    {
      "cell_type": "code",
      "metadata": {
        "colab": {
          "base_uri": "https://localhost:8080/"
        },
        "id": "7h55FDAyTb5l",
        "outputId": "f512f482-f714-47c3-eb14-9d78f4f6fb74"
      },
      "source": [
        "ss = input('Enter a String: ')\n",
        "data = set(ss)\n",
        "for x in data:\n",
        "  print(x,ss.count(x),end=' ',sep=':')"
      ],
      "execution_count": 3,
      "outputs": [
        {
          "output_type": "stream",
          "text": [
            "Enter a String: Hello\n",
            "H:1 o:1 e:1 l:2 "
          ],
          "name": "stdout"
        }
      ]
    },
    {
      "cell_type": "markdown",
      "metadata": {
        "id": "BkhMtrcPY3jt"
      },
      "source": [
        "<html>\n",
        "<body>\n",
        "<h3>program 'iii'</h3>\n",
        "<h4>Code :</h3>\n",
        "</body>\n",
        "</html>"
      ]
    },
    {
      "cell_type": "code",
      "metadata": {
        "colab": {
          "base_uri": "https://localhost:8080/"
        },
        "id": "rtrDDzukY5kF",
        "outputId": "0bbbeff7-c34f-4410-d178-7c3b825b2e94"
      },
      "source": [
        "name = list(map(str,input('Enter your full name: ').strip().split()))\n",
        "for x in range(len(name)-1):\n",
        "  print(name[x][0],end='.')\n",
        "print(name[-1])"
      ],
      "execution_count": 4,
      "outputs": [
        {
          "output_type": "stream",
          "text": [
            "Enter your full name: Robert Brett Roser\n",
            "R.B.Roser\n"
          ],
          "name": "stdout"
        }
      ]
    }
  ]
}