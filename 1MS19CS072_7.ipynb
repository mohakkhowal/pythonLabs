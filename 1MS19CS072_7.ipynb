{
 "cells": [
  {
   "cell_type": "markdown",
   "metadata": {
    "id": "yaG73jukmrRI"
   },
   "source": [
    "<html>\n",
    "<body>\n",
    "\n",
    "<h2>Topic: Dictionaries</h2>\n",
    "<hr><hr>\n",
    "<h3>USN: 1MS19CS072 </h3>\n",
    "<h3>NAME: MOHAK KHOWAL</h3>\n",
    "<hr><hr>\n",
    "</body>\n",
    "</html>\n",
    " "
   ]
  },
  {
   "cell_type": "markdown",
   "metadata": {
    "id": "qzR4LveS1-us"
   },
   "source": [
    "<html>\n",
    "<body>\n",
    "\n",
    "<h1>Questions</h1>\n",
    "\n",
    "<ol type=\"i\">\n",
    "  <li>Create a python dictionary for words and their meanings. Write functions to add a new entry (word:meaning) ,search for a particular word and retrieve meaning, given meaning find words with same meaning , remove an entry, display all words sorted alphabetically. [Program must be menu driven]\n",
    "</li>\n",
    "  <li>Write a Python script to concatenate following dictionaries to create a new one. Sample Dictionary : dic1={1:10, 2:20} dic2={3:30, 4:40} dic3={5:50,6:60} Expected Result : {1: 10, 2: 20, 3: 30, 4: 40, 5: 50, 6: 60}\n",
    "</li>\n",
    "  <li>Write the function nearestBusStop(street) that takes a non-negative int street number, and returns the nearest bus stop to the given street, where buses stop every 8th street, including street 0, and ties go to the lower street, so the nearest bus stop to 12th street is 8th street, and the nearest bus stop to 13 street is 16th street. The function returns an integer, so for example, nearestBusStop(5) returns 8.\n",
    "</li>\n",
    "</ol>\n",
    "<hr><hr>\n",
    "</body>\n",
    "</html>"
   ]
  },
  {
   "cell_type": "markdown",
   "metadata": {
    "id": "ljXCXomR8Dlm"
   },
   "source": [
    "<html>\n",
    "<body>\n",
    "\n",
    "<h1>SOLUTIONS</h1>\n",
    "</body>\n",
    "</html>"
   ]
  },
  {
   "cell_type": "markdown",
   "metadata": {
    "id": "d0BVX2BB8Fpx"
   },
   "source": [
    "<html>\n",
    "<body>\n",
    "<h3>program 'i'</h3>\n",
    "<h4>Code :</h3>\n",
    "</body>\n",
    "</html>"
   ]
  },
  {
   "cell_type": "code",
   "execution_count": 22,
   "metadata": {
    "id": "xfkq7jpL8Ktu"
   },
   "outputs": [],
   "source": [
    "data={}\n",
    "def dictionary():\n",
    "  while True:\n",
    "    print('Select an option: ','1. Add new Word','2. Get meaning of a word','3. Find words with same meaning','4. Remove an entry','5. Display words alphabetically','6. Exit',sep='\\n')\n",
    "    n = int(input())\n",
    "    if n==1:\n",
    "      a = input('Word: ')\n",
    "      b = input('Meaning: ')\n",
    "      data[a]=b\n",
    "    elif n==2:\n",
    "      a = input('Word: ')\n",
    "      if a not in data.keys():\n",
    "        print('**Meaning not Found**')\n",
    "      else:\n",
    "        print('Meaning: ',data[a])\n",
    "    elif n==3:\n",
    "      a = input('Meaning: ')\n",
    "      if a not in data.values():\n",
    "        print('**No  Word  Found**')\n",
    "      else:\n",
    "        for x,y in data.items():\n",
    "          if y==a:\n",
    "            print(x,end=' ')\n",
    "        print()\n",
    "    elif n==4:\n",
    "      a = input('Word: ')\n",
    "      if a in data.keys():\n",
    "        data.pop(a)\n",
    "      print('Removed',a)\n",
    "    elif n==5:\n",
    "      for x in sorted(data.keys()):\n",
    "        print(x,\":\",data[x])\n",
    "    elif n==6:\n",
    "      return\n",
    "    else:\n",
    "      print('**Invalid option!!!**')"
   ]
  },
  {
   "cell_type": "code",
   "execution_count": 23,
   "metadata": {
    "colab": {
     "base_uri": "https://localhost:8080/"
    },
    "id": "D5J0yIwrEUDa",
    "outputId": "4a616dba-d0fb-4a9f-f175-db0c8efb64d1"
   },
   "outputs": [
    {
     "name": "stdout",
     "output_type": "stream",
     "text": [
      "Select an option: \n",
      "1. Add new Word\n",
      "2. Get meaning of a word\n",
      "3. Find words with same meaning\n",
      "4. Remove an entry\n",
      "5. Display words alphabetically\n",
      "6. Exit\n",
      "1\n",
      "Word: walk\n",
      "Meaning: to move around\n",
      "Select an option: \n",
      "1. Add new Word\n",
      "2. Get meaning of a word\n",
      "3. Find words with same meaning\n",
      "4. Remove an entry\n",
      "5. Display words alphabetically\n",
      "6. Exit\n",
      "1\n",
      "Word: stroll\n",
      "Meaning: to move around\n",
      "Select an option: \n",
      "1. Add new Word\n",
      "2. Get meaning of a word\n",
      "3. Find words with same meaning\n",
      "4. Remove an entry\n",
      "5. Display words alphabetically\n",
      "6. Exit\n",
      "2\n",
      "Word: walk\n",
      "Meaning:  to move around\n",
      "Select an option: \n",
      "1. Add new Word\n",
      "2. Get meaning of a word\n",
      "3. Find words with same meaning\n",
      "4. Remove an entry\n",
      "5. Display words alphabetically\n",
      "6. Exit\n",
      "3\n",
      "Meaning: to move around\n",
      "walk stroll \n",
      "Select an option: \n",
      "1. Add new Word\n",
      "2. Get meaning of a word\n",
      "3. Find words with same meaning\n",
      "4. Remove an entry\n",
      "5. Display words alphabetically\n",
      "6. Exit\n",
      "4\n",
      "Word: walk\n",
      "Removed walk\n",
      "Select an option: \n",
      "1. Add new Word\n",
      "2. Get meaning of a word\n",
      "3. Find words with same meaning\n",
      "4. Remove an entry\n",
      "5. Display words alphabetically\n",
      "6. Exit\n",
      "1\n",
      "Word: speak\n",
      "Meaning: to say something\n",
      "Select an option: \n",
      "1. Add new Word\n",
      "2. Get meaning of a word\n",
      "3. Find words with same meaning\n",
      "4. Remove an entry\n",
      "5. Display words alphabetically\n",
      "6. Exit\n",
      "5\n",
      "speak : to say something\n",
      "stroll : to move around\n",
      "Select an option: \n",
      "1. Add new Word\n",
      "2. Get meaning of a word\n",
      "3. Find words with same meaning\n",
      "4. Remove an entry\n",
      "5. Display words alphabetically\n",
      "6. Exit\n",
      "6\n"
     ]
    }
   ],
   "source": [
    "dictionary()"
   ]
  },
  {
   "cell_type": "markdown",
   "metadata": {
    "id": "nLTiEf8JFTIK"
   },
   "source": [
    "<html>\n",
    "<body>\n",
    "<h3>program 'ii'</h3>\n",
    "<h4>Code :</h3>\n",
    "</body>\n",
    "</html>"
   ]
  },
  {
   "cell_type": "code",
   "execution_count": 25,
   "metadata": {
    "colab": {
     "base_uri": "https://localhost:8080/"
    },
    "id": "bvAZv1eEFU34",
    "outputId": "a0cf54ce-25e7-439e-9638-62073ce93273"
   },
   "outputs": [
    {
     "name": "stdout",
     "output_type": "stream",
     "text": [
      "{1: 10, 2: 20, 3: 30, 4: 40, 5: 50, 6: 60}\n"
     ]
    }
   ],
   "source": [
    "dic1={1:10, 2:20}\n",
    "dic2={3:30, 4:40}\n",
    "dic3={5:50,6:60}\n",
    "dic = {}\n",
    "dic.update(dic1)\n",
    "dic.update(dic2)\n",
    "dic.update(dic3)\n",
    "print(dic)"
   ]
  },
  {
   "cell_type": "markdown",
   "metadata": {
    "id": "XYP9Uy_4GX9w"
   },
   "source": [
    "<html>\n",
    "<body>\n",
    "<h3>program 'iii'</h3>\n",
    "<h4>Code :</h3>\n",
    "</body>\n",
    "</html>"
   ]
  },
  {
   "cell_type": "code",
   "execution_count": 1,
   "metadata": {},
   "outputs": [],
   "source": [
    "def helper(street):\n",
    "  a = abs(street - (street//8)*8)\n",
    "  b = abs(street - (street//8 + 1)*8)\n",
    "  if a<=b:\n",
    "    return (street//8)*8\n",
    "  return (street//8 + 1)*8\n",
    "\n",
    "def nearestBusStop(street):\n",
    "  data = {'ok':helper,'invalid':'Invalid Street'}\n",
    "  if(street<0):\n",
    "    return data['invalid']\n",
    "  return data['ok'](street)"
   ]
  },
  {
   "cell_type": "code",
   "execution_count": 2,
   "metadata": {},
   "outputs": [
    {
     "data": {
      "text/plain": [
       "8"
      ]
     },
     "execution_count": 2,
     "metadata": {},
     "output_type": "execute_result"
    }
   ],
   "source": [
    "nearestBusStop(12)"
   ]
  },
  {
   "cell_type": "code",
   "execution_count": 5,
   "metadata": {},
   "outputs": [
    {
     "data": {
      "text/plain": [
       "0"
      ]
     },
     "execution_count": 5,
     "metadata": {},
     "output_type": "execute_result"
    }
   ],
   "source": [
    "nearestBusStop(0)"
   ]
  },
  {
   "cell_type": "code",
   "execution_count": 6,
   "metadata": {},
   "outputs": [
    {
     "data": {
      "text/plain": [
       "'Invalid Street'"
      ]
     },
     "execution_count": 6,
     "metadata": {},
     "output_type": "execute_result"
    }
   ],
   "source": [
    "nearestBusStop(-5)"
   ]
  }
 ],
 "metadata": {
  "colab": {
   "collapsed_sections": [],
   "name": "1MS19CS072_7.ipynb",
   "provenance": []
  },
  "kernelspec": {
   "display_name": "Python 3",
   "language": "python",
   "name": "python3"
  },
  "language_info": {
   "codemirror_mode": {
    "name": "ipython",
    "version": 3
   },
   "file_extension": ".py",
   "mimetype": "text/x-python",
   "name": "python",
   "nbconvert_exporter": "python",
   "pygments_lexer": "ipython3",
   "version": "3.6.9"
  }
 },
 "nbformat": 4,
 "nbformat_minor": 1
}
