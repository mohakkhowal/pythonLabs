{
  "nbformat": 4,
  "nbformat_minor": 0,
  "metadata": {
    "colab": {
      "name": "1MS19CS072_6.ipynb",
      "provenance": [],
      "collapsed_sections": []
    },
    "kernelspec": {
      "name": "python3",
      "display_name": "Python 3"
    },
    "language_info": {
      "name": "python"
    }
  },
  "cells": [
    {
      "cell_type": "markdown",
      "metadata": {
        "id": "pQn8abEDdAVN"
      },
      "source": [
        "<html>\n",
        "<body>\n",
        "\n",
        "<h2>Topic: Tuples and sets</h2>\n",
        "<hr><hr>\n",
        "<h3>USN: 1MS19CS072 </h3>\n",
        "<h3>NAME: MOHAK KHOWAL</h3>\n",
        "<hr><hr>\n",
        "</body>\n",
        "</html>\n"
      ]
    },
    {
      "cell_type": "markdown",
      "metadata": {
        "id": "wQrL5CH6dFz0"
      },
      "source": [
        "<html>\n",
        "<body>\n",
        "\n",
        "<h1>Questions</h1>\n",
        "\n",
        "<ol type=\"i\">\n",
        "  <li>Given a list of tuples, extract all tuples having K digit elements.</br>\n",
        "Input : test_list = [(54, 2), (34, 55), (222, 23), (12, 45), (78, )], K = 2 </br>\n",
        "Output : [(34, 55), (12, 45), (78,)] </br>\n",
        "Explanation : All tuples have numbers with 2 digits.</br>\n",
        "Input : test_list = [(54, 2), (34, 55), (222, 23), (12, 45), (782, )], K = 3</br> \n",
        "Output : [(782,)]</br> \n",
        "Explanation : All tuples have numbers with 3 digits.</br> \n",
        "</li>\n",
        "  <li>While working with Python data, we can have a problem in which we have data in form of nested and non-nested form inside in a single tuple, and we wish to count the element frequency in them. This kind of problem can come in domains such as web development and Data Science.</br> \n",
        "Input : test_tuple = (5, (6, (7, 8, 6)))</br>\n",
        "Output : {5: 1, 6: 2, 7: 1, 8: 1}</br>\n",
        "Input : test_tuple = (5, 6, 7, 8)</br>\n",
        "Output : {5: 1, 6: 1, 7: 1, 8: 1}</br>\n",
        "</li>\n",
        "  <li>Given a set, write a Python program to generate all possible subset of size n of given set within a list.</br>\n",
        "Examples:</br>\n",
        "Input : {1, 2, 3}, n = 2</br>\n",
        "Output : [{1, 2}, {1, 3}, {2, 3}]</br>\n",
        "Input : {1, 2, 3, 4}, n = 3</br>\n",
        "Output : [{1, 2, 3}, {1, 2, 4}, {1, 3, 4}, {2, 3, 4}]</br>\n",
        "</li>\n",
        "</ol>\n",
        "<hr><hr>\n",
        "</body>\n",
        "</html>"
      ]
    },
    {
      "cell_type": "markdown",
      "metadata": {
        "id": "40_0Fyv6fOdk"
      },
      "source": [
        "<html>\n",
        "<body>\n",
        "\n",
        "<h1>SOLUTIONS</h1>\n",
        "</body>\n",
        "</html>"
      ]
    },
    {
      "cell_type": "markdown",
      "metadata": {
        "id": "AzNafRYkfReb"
      },
      "source": [
        "<html>\n",
        "<body>\n",
        "<h3>program 'i'</h3>\n",
        "<h4>Code :</h3>\n",
        "</body>\n",
        "</html>"
      ]
    },
    {
      "cell_type": "code",
      "metadata": {
        "id": "zCDyhkE1d1Lt"
      },
      "source": [
        "def reqdTuples(data,k):\n",
        "  ans=[]\n",
        "  for x in data:\n",
        "    if min(x)>=(10**(k-1)) and max(x)<(10**(k)):\n",
        "      ans.append(x)\n",
        "  return ans"
      ],
      "execution_count": null,
      "outputs": []
    },
    {
      "cell_type": "code",
      "metadata": {
        "colab": {
          "base_uri": "https://localhost:8080/"
        },
        "id": "SmsXHgrie-15",
        "outputId": "63b775b8-fe79-4e1b-c68c-3bb4b0fd2a87"
      },
      "source": [
        "reqdTuples([(54, 2), (34, 55), (222, 23), (12, 45), (78, )],2)"
      ],
      "execution_count": null,
      "outputs": [
        {
          "output_type": "execute_result",
          "data": {
            "text/plain": [
              "[(34, 55), (12, 45), (78,)]"
            ]
          },
          "metadata": {
            "tags": []
          },
          "execution_count": 4
        }
      ]
    },
    {
      "cell_type": "code",
      "metadata": {
        "colab": {
          "base_uri": "https://localhost:8080/"
        },
        "id": "6cUP_GDQfEgN",
        "outputId": "e5e0987e-5061-4d16-daed-36e7089da282"
      },
      "source": [
        "reqdTuples([(54, 2), (34, 55), (222, 23), (12, 45), (782, )],3)"
      ],
      "execution_count": null,
      "outputs": [
        {
          "output_type": "execute_result",
          "data": {
            "text/plain": [
              "[(782,)]"
            ]
          },
          "metadata": {
            "tags": []
          },
          "execution_count": 5
        }
      ]
    },
    {
      "cell_type": "markdown",
      "metadata": {
        "id": "9cPh1QDpfTZL"
      },
      "source": [
        "<html>\n",
        "<body>\n",
        "<h3>program 'ii'</h3>\n",
        "<h4>Code :</h3>\n",
        "</body>\n",
        "</html>"
      ]
    },
    {
      "cell_type": "code",
      "metadata": {
        "id": "yQqYZLkjfWl0"
      },
      "source": [
        "from collections import Counter\n",
        "def helper(data,ans):\n",
        "  for x in data:\n",
        "    if isinstance(x,tuple):\n",
        "      helper(x,ans)\n",
        "    else:\n",
        "      ans.append(x)\n",
        "  return ans  \n",
        "\n",
        "def count(data):\n",
        "  ans=[]\n",
        "  return dict(Counter(helper(data,ans)))\n"
      ],
      "execution_count": 7,
      "outputs": []
    },
    {
      "cell_type": "code",
      "metadata": {
        "colab": {
          "base_uri": "https://localhost:8080/"
        },
        "id": "9ZieQ9UQdV4R",
        "outputId": "f54f65ce-aa91-47ba-d952-785d1bf77038"
      },
      "source": [
        "data = (5, (6, (7, 8, 6)))\n",
        "count(data)"
      ],
      "execution_count": 8,
      "outputs": [
        {
          "output_type": "execute_result",
          "data": {
            "text/plain": [
              "{5: 1, 6: 2, 7: 1, 8: 1}"
            ]
          },
          "metadata": {
            "tags": []
          },
          "execution_count": 8
        }
      ]
    },
    {
      "cell_type": "code",
      "metadata": {
        "colab": {
          "base_uri": "https://localhost:8080/"
        },
        "id": "sZOnambzdX9N",
        "outputId": "7ca71680-69d1-4615-fa81-6049ed7963d8"
      },
      "source": [
        "data = (5,6,7,8)\n",
        "count(data)"
      ],
      "execution_count": 10,
      "outputs": [
        {
          "output_type": "execute_result",
          "data": {
            "text/plain": [
              "{5: 1, 6: 1, 7: 1, 8: 1}"
            ]
          },
          "metadata": {
            "tags": []
          },
          "execution_count": 10
        }
      ]
    },
    {
      "cell_type": "markdown",
      "metadata": {
        "id": "gg1Y-xD9kvWW"
      },
      "source": [
        "<html>\n",
        "<body>\n",
        "<h3>program 'iii'</h3>\n",
        "<h4>Code :</h3>\n",
        "</body>\n",
        "</html>"
      ]
    },
    {
      "cell_type": "code",
      "metadata": {
        "id": "S0GPhhOdkzWj"
      },
      "source": [
        "import itertools\n",
        "def subsets():\n",
        "  data = set(map(int,input('Enter elements of set: ').split()))\n",
        "  k = int(input('Enter the size of required subsets: '))\n",
        "  print(list(map(set, itertools.combinations(data, k))))  "
      ],
      "execution_count": null,
      "outputs": []
    },
    {
      "cell_type": "code",
      "metadata": {
        "colab": {
          "base_uri": "https://localhost:8080/"
        },
        "id": "GoMhePctdh6m",
        "outputId": "76e3e9cd-f1dd-4b6e-9b28-84a7b097f92d"
      },
      "source": [
        "subsets()"
      ],
      "execution_count": null,
      "outputs": [
        {
          "output_type": "stream",
          "text": [
            "Enter elements of set: 1 2 3\n",
            "Enter the size of required subsets: 2\n",
            "[{1, 2}, {1, 3}, {2, 3}]\n"
          ],
          "name": "stdout"
        }
      ]
    },
    {
      "cell_type": "code",
      "metadata": {
        "colab": {
          "base_uri": "https://localhost:8080/"
        },
        "id": "7s2Isv9Mdj7g",
        "outputId": "7f4b135c-a6e4-4b98-d62d-8292ebbc85b6"
      },
      "source": [
        "subsets()"
      ],
      "execution_count": null,
      "outputs": [
        {
          "output_type": "stream",
          "text": [
            "Enter elements of set: 1 2 3 4\n",
            "Enter the size of required subsets: 3\n",
            "[{1, 2, 3}, {1, 2, 4}, {1, 3, 4}, {2, 3, 4}]\n"
          ],
          "name": "stdout"
        }
      ]
    }
  ]
}
