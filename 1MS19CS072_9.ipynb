{
  "nbformat": 4,
  "nbformat_minor": 0,
  "metadata": {
    "colab": {
      "name": "1MS19CS072_9.ipynb",
      "provenance": [],
      "collapsed_sections": []
    },
    "kernelspec": {
      "name": "python3",
      "display_name": "Python 3"
    },
    "language_info": {
      "name": "python"
    }
  },
  "cells": [
    {
      "cell_type": "markdown",
      "metadata": {
        "id": "riJEgiMtYMke"
      },
      "source": [
        "<html>\n",
        "<body>\n",
        "\n",
        "<h2>Topic:Programs\n",
        "on File I/O</h2>\n",
        "<hr><hr>\n",
        "<h3>USN: 1MS19CS072 </h3>\n",
        "<h3>NAME: MOHAK KHOWAL</h3>\n",
        "<hr><hr>\n",
        "</body>\n",
        "</html>"
      ]
    },
    {
      "cell_type": "markdown",
      "metadata": {
        "id": "RQuT8WlWYUcX"
      },
      "source": [
        "<html>\n",
        "<body>\n",
        "\n",
        "<h1>Questions</h1>\n",
        "\n",
        "<ol type=\"i\">\n",
        "  <li>Write a python program to create a file and write\n",
        "contents into the file. Open the file created and\n",
        "count the number of words in the file.\n",
        "</li>\n",
        "  <li>Write a python program Convert the contents of the\n",
        "file ‘graffit.txt’ to all uppercase letters.\n",
        "</li>  \n",
        "</ol>\n",
        "<hr><hr>\n",
        "</body>\n",
        "</html>"
      ]
    },
    {
      "cell_type": "markdown",
      "metadata": {
        "id": "xtkRRrI3m5DQ"
      },
      "source": [
        "<html>\n",
        "<body>\n",
        "\n",
        "<h1>SOLUTIONS</h1>\n",
        "</body>\n",
        "</html>"
      ]
    },
    {
      "cell_type": "markdown",
      "metadata": {
        "id": "hVCafdakm8X9"
      },
      "source": [
        "<html>\n",
        "<body>\n",
        "<h3>program 'i'</h3>\n",
        "<h4>Code :</h3>\n",
        "</body>\n",
        "</html>"
      ]
    },
    {
      "cell_type": "code",
      "metadata": {
        "colab": {
          "base_uri": "https://localhost:8080/"
        },
        "id": "HmkiwNzNm8wV",
        "outputId": "219abb1e-fc66-4bed-bed4-cc60c07f25d6"
      },
      "source": [
        "f = open('graffiti.txt','w')\n",
        "f.write('Lorem ipsum dolor sit amet, consectetur adipiscing elit. Donec pulvinar risus quis mauris suscipit, nec ultricies eros varius. Integer sodales a elit eu facilisis. Quisque.')\n",
        "f.close()\n",
        "f = open('graffiti.txt','r')\n",
        "data = f.read()\n",
        "print(data)\n",
        "print('NO. of Words:',len(data.split()))\n",
        "f.close()"
      ],
      "execution_count": 25,
      "outputs": [
        {
          "output_type": "stream",
          "text": [
            "Lorem ipsum dolor sit amet, consectetur adipiscing elit. Donec pulvinar risus quis mauris suscipit, nec ultricies eros varius. Integer sodales a elit eu facilisis. Quisque.\n",
            "NO. of Words: 25\n"
          ],
          "name": "stdout"
        }
      ]
    },
    {
      "cell_type": "markdown",
      "metadata": {
        "id": "1lbiS0xtpyY_"
      },
      "source": [
        "<html>\n",
        "<body>\n",
        "<h3>program 'ii'</h3>\n",
        "<h4>Code :</h3>\n",
        "</body>\n",
        "</html>"
      ]
    },
    {
      "cell_type": "code",
      "metadata": {
        "colab": {
          "base_uri": "https://localhost:8080/"
        },
        "id": "qnIgKZ1CpzYb",
        "outputId": "749528da-6960-4561-f8df-0258a359b4be"
      },
      "source": [
        "f = open('graffiti.txt','r')\n",
        "data = f.readlines()\n",
        "string = ''.join(x.upper() for x in data)\n",
        "f.close()\n",
        "f = open('graffiti.txt','w')\n",
        "f.write(string)\n",
        "f.close()\n",
        "f = open('graffiti.txt','r')\n",
        "data = f.read()\n",
        "print(data)\n",
        "f.close()"
      ],
      "execution_count": 26,
      "outputs": [
        {
          "output_type": "stream",
          "text": [
            "LOREM IPSUM DOLOR SIT AMET, CONSECTETUR ADIPISCING ELIT. DONEC PULVINAR RISUS QUIS MAURIS SUSCIPIT, NEC ULTRICIES EROS VARIUS. INTEGER SODALES A ELIT EU FACILISIS. QUISQUE.\n"
          ],
          "name": "stdout"
        }
      ]
    }
  ]
}